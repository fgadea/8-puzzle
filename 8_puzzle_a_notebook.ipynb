{
  "nbformat": 4,
  "nbformat_minor": 0,
  "metadata": {
    "colab": {
      "name": "8-puzzle-a*.ipynb",
      "provenance": [],
      "collapsed_sections": []
    },
    "kernelspec": {
      "name": "python3",
      "display_name": "Python 3"
    }
  },
  "cells": [
    {
      "cell_type": "code",
      "metadata": {
        "id": "KIt__Ek_ZIMh",
        "colab_type": "code",
        "colab": {}
      },
      "source": [
        "import numpy as np\n",
        "from operator import itemgetter\n",
        "import copy\n",
        "import uuid\n",
        "\n",
        "tablero_objetivo = np.array([[1,2,3],\n",
        "                             [4,5,6],\n",
        "                             [7,8,0]])\n",
        "tablero_dado = np.array([[1,8,2],\n",
        "                         [0,4,3],\n",
        "                         [7,6,5]])"
      ],
      "execution_count": 0,
      "outputs": []
    },
    {
      "cell_type": "code",
      "metadata": {
        "id": "cu5u1dVXPwze",
        "colab_type": "code",
        "colab": {}
      },
      "source": [
        "global nodos_abiertos\n",
        "nodos_abiertos = []\n",
        "global nodos_cerrados\n",
        "nodos_cerrados = []"
      ],
      "execution_count": 0,
      "outputs": []
    },
    {
      "cell_type": "code",
      "metadata": {
        "id": "uqcd9QFHb6El",
        "colab_type": "code",
        "colab": {}
      },
      "source": [
        "def calcular_h(h, c=1):\n",
        "  f = h + c\n",
        "  return f"
      ],
      "execution_count": 0,
      "outputs": []
    },
    {
      "cell_type": "code",
      "metadata": {
        "id": "R6TIU9fmcHCD",
        "colab_type": "code",
        "colab": {}
      },
      "source": [
        "def obtenerDistintos(mat1, mat2=tablero_objetivo):\n",
        "  diff = np.setdiff1d(mat1, mat2)\n",
        "  return len(diff)"
      ],
      "execution_count": 0,
      "outputs": []
    },
    {
      "cell_type": "code",
      "metadata": {
        "id": "YFvaF3VHc2hw",
        "colab_type": "code",
        "colab": {}
      },
      "source": [
        "def getNodeStart():\n",
        "  x, y = tablero_dado.shape\n",
        "\n",
        "  for i in range(x):\n",
        "    for j in range(y):\n",
        "      if tablero_dado[i,j] == 0:\n",
        "        return [i,j]\n",
        "  return [0,0]"
      ],
      "execution_count": 0,
      "outputs": []
    },
    {
      "cell_type": "code",
      "metadata": {
        "id": "1Bx-8hiZfNjA",
        "colab_type": "code",
        "colab": {}
      },
      "source": [
        "def getUniqueId():\n",
        "  return uuid.uuid4()\n",
        "\n",
        "def printMats(mat):\n",
        "  h,w = mat.shape\n",
        "  for i in range(h):\n",
        "    print(mat[i])\n",
        "  print('\\n')"
      ],
      "execution_count": 0,
      "outputs": []
    },
    {
      "cell_type": "code",
      "metadata": {
        "id": "gSN0t0mrg6ID",
        "colab_type": "code",
        "colab": {}
      },
      "source": [
        "def mover(direct, nodo):\n",
        "  #Copiamos nodo\n",
        "  local_nodo = nodo.copy()\n",
        "\n",
        "  #Posición de hueco\n",
        "  x = local_nodo[0][0]\n",
        "  y = local_nodo[0][1]\n",
        "\n",
        "  #Variable para poder guardar la posición futura del hueco\n",
        "  coord = [x,y]\n",
        "\n",
        "  #Copiamos el tablero del nodo para plasmar el movimiento\n",
        "  mat = local_nodo[1].copy()\n",
        "\n",
        "\n",
        "  #Si es a la derecha\n",
        "  if direct == 'r':\n",
        "    cell = mat[x,y+1]\n",
        "    mat[x,y+1] = mat[x,y]\n",
        "    mat[x,y] = cell\n",
        "    coord[0] = x\n",
        "    coord[1] = y+1\n",
        "\n",
        "  #Si es a la izquierda\n",
        "  elif direct == 'l':\n",
        "    cell = mat[x,y-1]\n",
        "    mat[x,y-1] = mat[x,y]\n",
        "    mat[x,y] = cell\n",
        "    coord[0] = x\n",
        "    coord[1] = y-1\n",
        "\n",
        "  #Si es arriba\n",
        "  elif direct == 't':\n",
        "    cell = mat[x-1,y]\n",
        "    mat[x-1,y] = mat[x,y]\n",
        "    mat[x,y] = cell\n",
        "    coord[0] = x-1\n",
        "    coord[1] = y\n",
        "\n",
        "  #Si es abajo\n",
        "  elif direct == 'd':\n",
        "    cell = mat[x+1,y]\n",
        "    mat[x+1,y] = mat[x,y]\n",
        "    mat[x,y] = cell\n",
        "    coord[0] = x+1\n",
        "    coord[1] = y\n",
        "\n",
        "  #Calculamos la heurística para nuetro nuevo nodo\n",
        "  heur = calcular_h(h=obtenerDistintos(mat), c=1) + local_nodo[2]\n",
        "\n",
        "  #Creamos el nodo\n",
        "              #pos   #mat        #h    #padre         #id   \n",
        "  new_nodo = [coord, mat.copy(), heur, local_nodo[4], getUniqueId()]\n",
        "  \n",
        "\n",
        "  #Si el caso del tablero ya existe en abiertos pero su coste es menor al del actual pasamos para poder ir a ese\n",
        "  for n in nodos_abiertos:\n",
        "    if np.array_equal(n[1],new_nodo[1]):\n",
        "      if n[2] <= heur + local_nodo[2]:\n",
        "          return\n",
        "  #Sino, si el caso existe en cerrados pero su coste es menor al actual pasamos porque ya lo hemos visitado\n",
        "  for n in nodos_cerrados:\n",
        "    if np.array_equal(n[1],new_nodo[1]):\n",
        "      if n[2] <= heur + local_nodo[2]:\n",
        "          return\n",
        "  #Sino lo añadimos a abiertos\n",
        "  nodos_abiertos.append(new_nodo)\n"
      ],
      "execution_count": 0,
      "outputs": []
    },
    {
      "cell_type": "code",
      "metadata": {
        "id": "LQ2YE9SWfiom",
        "colab_type": "code",
        "colab": {}
      },
      "source": [
        "def expandir_nodo(nodo):\n",
        "  #Copiamos nodo\n",
        "  local_nodo = nodo.copy()\n",
        "\n",
        "  #Obtenemos posición del hueco\n",
        "  x = local_nodo[0][0]\n",
        "  y = local_nodo[0][1]\n",
        "\n",
        "  #Si es 0,0 || 0,1 || 0,2\n",
        "  if x == 0:\n",
        "    if y == 0:\n",
        "      #moverDerecha\n",
        "      mover('r', local_nodo)\n",
        "      #moverAbajo\n",
        "      mover('d', local_nodo)\n",
        "    elif y == 1:\n",
        "      #moverDerecha\n",
        "      mover('r', local_nodo)\n",
        "      #moverAbajo\n",
        "      mover('d', local_nodo)\n",
        "      #moverIzquierda\n",
        "      mover('l', local_nodo)\n",
        "    elif y == 2: \n",
        "      #moverIzquierda\n",
        "      mover('l', local_nodo)\n",
        "      #moverAbajo\n",
        "      mover('d', local_nodo)\n",
        "\n",
        "  #Si es 1,0 || 1,1 || 1,2\n",
        "  elif x == 1:\n",
        "    if y == 0:\n",
        "      #moverArriba\n",
        "      mover('t', local_nodo)\n",
        "      #moverDerecha\n",
        "      mover('r', local_nodo)\n",
        "      #moverAbajo\n",
        "      mover('d', local_nodo)\n",
        "    elif y == 1:\n",
        "      #moverDerecha\n",
        "      mover('r', local_nodo)\n",
        "      #moverArriba\n",
        "      mover('t', local_nodo)\n",
        "      #moverAbajo\n",
        "      mover('d', local_nodo)\n",
        "      #moverIzquierda\n",
        "      mover('l', local_nodo)\n",
        "    elif y == 2: \n",
        "      #moverIzquierda\n",
        "      mover('l', local_nodo)\n",
        "      #moverAbajo\n",
        "      mover('d', local_nodo)\n",
        "      #moverArriba\n",
        "      mover('t', local_nodo)\n",
        "\n",
        "  #Si es 2,0 || 2,1 || 2,2\n",
        "  elif x == 2:\n",
        "    if y == 0:\n",
        "      #moverArriba\n",
        "      mover('t', local_nodo)\n",
        "      #moverDerecha\n",
        "      mover('r', local_nodo)\n",
        "    elif y == 1:\n",
        "      #moverDerecha\n",
        "      mover('r', local_nodo)\n",
        "      #moverArriba\n",
        "      mover('t', local_nodo)\n",
        "      #moverIzquierda\n",
        "      mover('l', local_nodo)\n",
        "    elif y == 2: \n",
        "      #moverIzquierda\n",
        "      mover('l', local_nodo)\n",
        "      #moverArriba\n",
        "      mover('t', local_nodo)\n",
        "  "
      ],
      "execution_count": 0,
      "outputs": []
    },
    {
      "cell_type": "code",
      "metadata": {
        "id": "_0x0b0KJk4_L",
        "colab_type": "code",
        "colab": {}
      },
      "source": [
        "#Calculo de la herística\n",
        "heuristica = calcular_h(h=obtenerDistintos(tablero_dado), c=1)\n",
        "\n",
        "#Creamos el nodo inicial\n",
        "              #pos            #mat                 #heu       #p #id \n",
        "node_start = [getNodeStart(), tablero_dado.copy(), heuristica ,0, 0]\n",
        "\n",
        "#Añadimos nodo inicial a abiertos\n",
        "nodos_abiertos.append(node_start)"
      ],
      "execution_count": 0,
      "outputs": []
    },
    {
      "cell_type": "code",
      "metadata": {
        "id": "MHbJ7drXnVc6",
        "colab_type": "code",
        "colab": {
          "base_uri": "https://localhost:8080/",
          "height": 34
        },
        "outputId": "02d8ea28-bfa6-4735-f0c7-1907e7373261"
      },
      "source": [
        "global nodo_local\n",
        "\n",
        "#Mientras haya nodos\n",
        "while len(nodos_abiertos) != 0:\n",
        "\n",
        "  #ordenar lista de menor a mayor f\n",
        "  nodos_abiertos = sorted(nodos_abiertos, key=lambda row: row[2])\n",
        "\n",
        "  #Obtener nodo con menor f\n",
        "  nodo_local = nodos_abiertos.pop(0).copy()\n",
        "\n",
        "  #Comprobar si es el objetivo\n",
        "  if np.array_equal(tablero_objetivo, nodo_local[1]):\n",
        "    print(\"Solved\")\n",
        "    break\n",
        "\n",
        "  #Expandimos nodo\n",
        "  expandir_nodo(nodo_local)\n",
        "\n",
        "  #Una vez expandido y preocesado guardamos padre en cerrados\n",
        "  nodos_cerrados.append(nodo_local.copy())"
      ],
      "execution_count": 393,
      "outputs": [
        {
          "output_type": "stream",
          "text": [
            "Solved\n"
          ],
          "name": "stdout"
        }
      ]
    },
    {
      "cell_type": "code",
      "metadata": {
        "id": "p47knGU30bxe",
        "colab_type": "code",
        "colab": {
          "base_uri": "https://localhost:8080/",
          "height": 1000
        },
        "outputId": "71afa98f-446f-4ead-d794-3d57ce3684f2"
      },
      "source": [
        "camino = []\n",
        "camino.append(nodo_local)\n",
        "\n",
        "padre = nodo_local[3]\n",
        "while padre != 0:\n",
        "  for n in nodos_cerrados:\n",
        "    if n[4] == padre:\n",
        "      camino.append(n)\n",
        "      padre = n[3]\n",
        "\n",
        "camino.reverse()\n",
        "\n",
        "print(\"<<< Tablero dado >>>\")\n",
        "printMats(tablero_dado)\n",
        "\n",
        "print(\"<<< Objetivo >>>\")\n",
        "printMats(tablero_objetivo)\n",
        "\n",
        "print(\"<<< Camino >>>\")\n",
        "for n in camino:\n",
        "  print(\"f = {}\".format(n[2]))\n",
        "  printMats(n[1])"
      ],
      "execution_count": 394,
      "outputs": [
        {
          "output_type": "stream",
          "text": [
            "<<< Tablero dado >>>\n",
            "[1 8 2]\n",
            "[0 4 3]\n",
            "[7 6 5]\n",
            "\n",
            "\n",
            "<<< Objetivo >>>\n",
            "[1 2 3]\n",
            "[4 5 6]\n",
            "[7 8 0]\n",
            "\n",
            "\n",
            "<<< Camino >>>\n",
            "f = 2\n",
            "[1 8 2]\n",
            "[4 0 3]\n",
            "[7 6 5]\n",
            "\n",
            "\n",
            "f = 3\n",
            "[1 0 2]\n",
            "[4 8 3]\n",
            "[7 6 5]\n",
            "\n",
            "\n",
            "f = 4\n",
            "[1 2 0]\n",
            "[4 8 3]\n",
            "[7 6 5]\n",
            "\n",
            "\n",
            "f = 5\n",
            "[1 2 3]\n",
            "[4 8 0]\n",
            "[7 6 5]\n",
            "\n",
            "\n",
            "f = 6\n",
            "[1 2 3]\n",
            "[4 8 5]\n",
            "[7 6 0]\n",
            "\n",
            "\n",
            "f = 7\n",
            "[1 2 3]\n",
            "[4 8 5]\n",
            "[7 0 6]\n",
            "\n",
            "\n",
            "f = 8\n",
            "[1 2 3]\n",
            "[4 0 5]\n",
            "[7 8 6]\n",
            "\n",
            "\n",
            "f = 9\n",
            "[1 2 3]\n",
            "[4 5 0]\n",
            "[7 8 6]\n",
            "\n",
            "\n",
            "f = 10\n",
            "[1 2 3]\n",
            "[4 5 6]\n",
            "[7 8 0]\n",
            "\n",
            "\n"
          ],
          "name": "stdout"
        }
      ]
    },
    {
      "cell_type": "code",
      "metadata": {
        "id": "yx_IrShxGYyn",
        "colab_type": "code",
        "colab": {}
      },
      "source": [
        ""
      ],
      "execution_count": 0,
      "outputs": []
    }
  ]
}